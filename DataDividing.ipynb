{
 "cells": [
  {
   "cell_type": "code",
   "execution_count": 1,
   "metadata": {},
   "outputs": [
    {
     "name": "stdout",
     "output_type": "stream",
     "text": [
      "Requirement already satisfied: scikit-learn in c:\\users\\user\\appdata\\local\\packages\\pythonsoftwarefoundation.python.3.11_qbz5n2kfra8p0\\localcache\\local-packages\\python311\\site-packages (1.5.2)Note: you may need to restart the kernel to use updated packages.\n",
      "\n",
      "Requirement already satisfied: numpy>=1.19.5 in c:\\users\\user\\appdata\\local\\packages\\pythonsoftwarefoundation.python.3.11_qbz5n2kfra8p0\\localcache\\local-packages\\python311\\site-packages (from scikit-learn) (1.26.4)\n",
      "Requirement already satisfied: scipy>=1.6.0 in c:\\users\\user\\appdata\\local\\packages\\pythonsoftwarefoundation.python.3.11_qbz5n2kfra8p0\\localcache\\local-packages\\python311\\site-packages (from scikit-learn) (1.14.1)\n",
      "Requirement already satisfied: joblib>=1.2.0 in c:\\users\\user\\appdata\\local\\packages\\pythonsoftwarefoundation.python.3.11_qbz5n2kfra8p0\\localcache\\local-packages\\python311\\site-packages (from scikit-learn) (1.4.2)\n",
      "Requirement already satisfied: threadpoolctl>=3.1.0 in c:\\users\\user\\appdata\\local\\packages\\pythonsoftwarefoundation.python.3.11_qbz5n2kfra8p0\\localcache\\local-packages\\python311\\site-packages (from scikit-learn) (3.5.0)\n"
     ]
    }
   ],
   "source": [
    "import os\n",
    "import shutil\n",
    "%pip install scikit-learn\n",
    "from sklearn.model_selection import train_test_split\n",
    "\n",
    "# Define the paths\n",
    "data_dir = r'C:\\Users\\USER\\Documents\\Kuliah\\CompVis\\Data'\n",
    "train_dir = r'C:\\Users\\USER\\Documents\\Kuliah\\CompVis\\train'\n",
    "val_dir = r'C:\\Users\\USER\\Documents\\Kuliah\\CompVis\\validation'\n",
    "test_dir = r'C:\\Users\\USER\\Documents\\Kuliah\\CompVis\\test'\n",
    "\n",
    "# Create Train, Validation, and Test directories if they don't exist\n",
    "os.makedirs(train_dir, exist_ok=True)\n",
    "os.makedirs(val_dir, exist_ok=True)\n",
    "os.makedirs(test_dir, exist_ok=True)\n",
    "\n",
    "# Define the labels\n",
    "labels = ['Front', 'Duck', 'Left Tilt', 'Right Tilt']\n",
    "\n",
    "# Create subdirectories for each label in Train, Validation, and Test directories\n",
    "for label in labels:\n",
    "    os.makedirs(os.path.join(train_dir, label), exist_ok=True)\n",
    "    os.makedirs(os.path.join(val_dir, label), exist_ok=True)\n",
    "    os.makedirs(os.path.join(test_dir, label), exist_ok=True)\n",
    "\n",
    "# Split the data\n",
    "for label in labels:\n",
    "    label_dir = os.path.join(data_dir, label)\n",
    "    files = os.listdir(label_dir)\n",
    "    \n",
    "    # Split into train and temp (which will be further split into validation and test)\n",
    "    train_files, temp_files = train_test_split(files, test_size=0.4, random_state=42)\n",
    "    \n",
    "    # Split temp into validation and test\n",
    "    val_files, test_files = train_test_split(temp_files, test_size=0.5, random_state=42)\n",
    "    \n",
    "    for file in train_files:\n",
    "        shutil.copy(os.path.join(label_dir, file), os.path.join(train_dir, label, file))\n",
    "    \n",
    "    for file in val_files:\n",
    "        shutil.copy(os.path.join(label_dir, file), os.path.join(val_dir, label, file))\n",
    "    \n",
    "    for file in test_files:\n",
    "        shutil.copy(os.path.join(label_dir, file), os.path.join(test_dir, label, file))"
   ]
  },
  {
   "cell_type": "code",
   "execution_count": 2,
   "metadata": {},
   "outputs": [
    {
     "name": "stdout",
     "output_type": "stream",
     "text": [
      "{'Front': 1011, 'Duck': 948, 'Left Tilt': 861, 'Right Tilt': 1037}\n"
     ]
    }
   ],
   "source": [
    "# Count the number of files in each label directory inside data_dir\n",
    "label_counts = {label: len(os.listdir(os.path.join(data_dir, label))) for label in labels}\n",
    "\n",
    "print(label_counts)"
   ]
  }
 ],
 "metadata": {
  "kernelspec": {
   "display_name": "Python 3",
   "language": "python",
   "name": "python3"
  },
  "language_info": {
   "codemirror_mode": {
    "name": "ipython",
    "version": 3
   },
   "file_extension": ".py",
   "mimetype": "text/x-python",
   "name": "python",
   "nbconvert_exporter": "python",
   "pygments_lexer": "ipython3",
   "version": "3.11.9"
  }
 },
 "nbformat": 4,
 "nbformat_minor": 2
}

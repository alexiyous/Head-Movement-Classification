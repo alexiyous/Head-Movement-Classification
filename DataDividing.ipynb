{
 "cells": [
  {
   "cell_type": "code",
   "execution_count": 2,
   "metadata": {},
   "outputs": [],
   "source": [
    "import os\n",
    "import shutil\n",
    "from sklearn.model_selection import train_test_split\n",
    "\n",
    "# Define the paths\n",
    "data_dir = r'C:\\Users\\USER\\Documents\\Kuliah\\CompVis\\Data'\n",
    "train_dir = r'C:\\Users\\USER\\Documents\\Kuliah\\CompVis\\train'\n",
    "val_dir = r'C:\\Users\\USER\\Documents\\Kuliah\\CompVis\\validation'\n",
    "test_dir = r'C:\\Users\\USER\\Documents\\Kuliah\\CompVis\\test'\n",
    "\n",
    "# Create Train, Validation, and Test directories if they don't exist\n",
    "os.makedirs(train_dir, exist_ok=True)\n",
    "os.makedirs(val_dir, exist_ok=True)\n",
    "os.makedirs(test_dir, exist_ok=True)\n",
    "\n",
    "# Define the labels\n",
    "labels = ['Front', 'Duck', 'Left Tilt', 'Right Tilt']\n",
    "\n",
    "# Create subdirectories for each label in Train, Validation, and Test directories\n",
    "for label in labels:\n",
    "    os.makedirs(os.path.join(train_dir, label), exist_ok=True)\n",
    "    os.makedirs(os.path.join(val_dir, label), exist_ok=True)\n",
    "    os.makedirs(os.path.join(test_dir, label), exist_ok=True)\n",
    "\n",
    "# Split the data\n",
    "for label in labels:\n",
    "    label_dir = os.path.join(data_dir, label)\n",
    "    files = os.listdir(label_dir)\n",
    "    \n",
    "    # Split into train and temp (which will be further split into validation and test)\n",
    "    train_files, temp_files = train_test_split(files, test_size=0.3, random_state=42)\n",
    "    \n",
    "    # Split temp into validation and test\n",
    "    val_files, test_files = train_test_split(temp_files, test_size=1/3, random_state=42)\n",
    "    \n",
    "    for file in train_files:\n",
    "        shutil.copy(os.path.join(label_dir, file), os.path.join(train_dir, label, file))\n",
    "    \n",
    "    for file in val_files:\n",
    "        shutil.copy(os.path.join(label_dir, file), os.path.join(val_dir, label, file))\n",
    "    \n",
    "    for file in test_files:\n",
    "        shutil.copy(os.path.join(label_dir, file), os.path.join(test_dir, label, file))"
   ]
  },
  {
   "cell_type": "code",
   "execution_count": 4,
   "metadata": {},
   "outputs": [
    {
     "name": "stdout",
     "output_type": "stream",
     "text": [
      "Training counts: {'Front': 707, 'Duck': 663, 'Left Tilt': 602, 'Right Tilt': 725}\n",
      "Validation counts: {'Front': 202, 'Duck': 190, 'Left Tilt': 172, 'Right Tilt': 208}\n",
      "Test counts: {'Front': 102, 'Duck': 95, 'Left Tilt': 87, 'Right Tilt': 104}\n"
     ]
    }
   ],
   "source": [
    "# Count the number of files in each label directory inside train_dir, val_dir, and test_dir\n",
    "train_counts = {label: len(os.listdir(os.path.join(train_dir, label))) for label in labels}\n",
    "val_counts = {label: len(os.listdir(os.path.join(val_dir, label))) for label in labels}\n",
    "test_counts = {label: len(os.listdir(os.path.join(test_dir, label))) for label in labels}\n",
    "\n",
    "print(\"Training counts:\", train_counts)\n",
    "print(\"Validation counts:\", val_counts)\n",
    "print(\"Test counts:\", test_counts)"
   ]
  },
  {
   "cell_type": "code",
   "execution_count": 3,
   "metadata": {},
   "outputs": [
    {
     "name": "stdout",
     "output_type": "stream",
     "text": [
      "{'Front': 1011, 'Duck': 948, 'Left Tilt': 861, 'Right Tilt': 1037}\n"
     ]
    }
   ],
   "source": [
    "# Count the number of files in each label directory inside data_dir\n",
    "label_counts = {label: len(os.listdir(os.path.join(data_dir, label))) for label in labels}\n",
    "\n",
    "print(label_counts)"
   ]
  }
 ],
 "metadata": {
  "kernelspec": {
   "display_name": "Python 3",
   "language": "python",
   "name": "python3"
  },
  "language_info": {
   "codemirror_mode": {
    "name": "ipython",
    "version": 3
   },
   "file_extension": ".py",
   "mimetype": "text/x-python",
   "name": "python",
   "nbconvert_exporter": "python",
   "pygments_lexer": "ipython3",
   "version": "3.11.9"
  }
 },
 "nbformat": 4,
 "nbformat_minor": 2
}
